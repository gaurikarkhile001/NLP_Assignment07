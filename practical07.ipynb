{
  "nbformat": 4,
  "nbformat_minor": 0,
  "metadata": {
    "colab": {
      "provenance": []
    },
    "kernelspec": {
      "name": "python3",
      "display_name": "Python 3"
    },
    "language_info": {
      "name": "python"
    }
  },
  "cells": [
    {
      "cell_type": "markdown",
      "source": [
        "# 7.A) Implementing Non-Negative Matrix Factorization (NMF) for topic modeling and evaluate using the reconstruction error.\n",
        "# B) Implement Wordnet to show Word Disambiguition.\n"
      ],
      "metadata": {
        "id": "xH5YLRbm3ING"
      }
    },
    {
      "cell_type": "markdown",
      "source": [
        "A) Non-Negative Matrix Factorization (NMF) for Topic Modeling\n",
        "Goal: Use NMF on a collection of documents (e.g., news articles), extract topics, and evaluate using reconstruction error."
      ],
      "metadata": {
        "id": "zoQeFp9j3Vdf"
      }
    },
    {
      "cell_type": "code",
      "execution_count": 1,
      "metadata": {
        "colab": {
          "base_uri": "https://localhost:8080/"
        },
        "id": "S1zao8G23Hdo",
        "outputId": "58216c94-ec40-4a07-8eb8-f9e37ca7c62c"
      },
      "outputs": [
        {
          "output_type": "stream",
          "name": "stdout",
          "text": [
            "Topic #1:\n",
            "don just like think know good ve time really want\n",
            "Topic #2:\n",
            "windows dos file program files window use using run running\n",
            "Topic #3:\n",
            "god jesus bible believe christ faith christian christians sin church\n",
            "Topic #4:\n",
            "drive scsi ide disk card controller hard drives bus floppy\n",
            "Topic #5:\n",
            "key chip encryption clipper keys government escrow use algorithm phone\n",
            "Topic #6:\n",
            "thanks does know mail advance hi info looking information help\n",
            "Topic #7:\n",
            "00 new 10 sale car price 50 20 shipping offer\n",
            "Topic #8:\n",
            "game games team year hockey baseball season players play espn\n",
            "Topic #9:\n",
            "edu geb dsl cadre n3jxp chastity pitt skepticism intellect shameful\n",
            "Topic #10:\n",
            "people government israel armenian jews armenians gun state did children\n",
            "\n",
            "Reconstruction Error: 133.310948282511\n"
          ]
        }
      ],
      "source": [
        "from sklearn.datasets import fetch_20newsgroups\n",
        "from sklearn.feature_extraction.text import TfidfVectorizer\n",
        "from sklearn.decomposition import NMF\n",
        "import numpy as np\n",
        "\n",
        "# Step 1: Load data\n",
        "newsgroups = fetch_20newsgroups(remove=('headers', 'footers', 'quotes'), subset='all')\n",
        "documents = newsgroups.data\n",
        "\n",
        "# Step 2: Vectorize using TF-IDF\n",
        "vectorizer = TfidfVectorizer(max_df=0.95, min_df=2, stop_words='english')\n",
        "tfidf = vectorizer.fit_transform(documents)\n",
        "\n",
        "# Step 3: Apply NMF\n",
        "num_topics = 10\n",
        "nmf_model = NMF(n_components=num_topics, random_state=42)\n",
        "W = nmf_model.fit_transform(tfidf)\n",
        "H = nmf_model.components_\n",
        "\n",
        "# Step 4: Print Topics\n",
        "feature_names = vectorizer.get_feature_names_out()\n",
        "for topic_idx, topic in enumerate(H):\n",
        "    print(f\"Topic #{topic_idx + 1}:\")\n",
        "    print(\" \".join([feature_names[i] for i in topic.argsort()[:-11:-1]]))\n",
        "\n",
        "# Step 5: Reconstruction error\n",
        "print(f\"\\nReconstruction Error: {nmf_model.reconstruction_err_}\")\n"
      ]
    },
    {
      "cell_type": "markdown",
      "source": [
        "B) Word Sense Disambiguation using WordNet (Lesk Algorithm)\n",
        "Use NLTK's implementation of the Lesk algorithm to demonstrate Word Sense Disambiguation."
      ],
      "metadata": {
        "id": "pgk_1U4R3Z_3"
      }
    },
    {
      "cell_type": "code",
      "source": [
        "import nltk\n",
        "from nltk.corpus import wordnet as wn\n",
        "from nltk.wsd import lesk\n",
        "from nltk.tokenize import word_tokenize\n",
        "\n",
        "# Download required corpora\n",
        "nltk.download('wordnet')\n",
        "nltk.download('omw-1.4')\n",
        "nltk.download('punkt')\n",
        "nltk.download('punkt_tab')\n",
        "\n",
        "# Example: Word Disambiguation for \"bank\"\n",
        "sentence1 = \"He deposited the money in the bank\"\n",
        "sentence2 = \"The river overflowed the bank\"\n",
        "\n",
        "for sentence in [sentence1, sentence2]:\n",
        "    context = word_tokenize(sentence)\n",
        "    sense = lesk(context, 'bank')\n",
        "    print(f\"\\nSentence: {sentence}\")\n",
        "    print(f\"Predicted Sense: {sense}\")\n",
        "    print(f\"Definition: {sense.definition() if sense else 'No sense found'}\")"
      ],
      "metadata": {
        "colab": {
          "base_uri": "https://localhost:8080/"
        },
        "id": "JMF60oRu3XQu",
        "outputId": "5f6847e6-ef7f-4808-cb1b-f1fa6fa2e1b5"
      },
      "execution_count": 3,
      "outputs": [
        {
          "output_type": "stream",
          "name": "stderr",
          "text": [
            "[nltk_data] Downloading package wordnet to /root/nltk_data...\n",
            "[nltk_data]   Package wordnet is already up-to-date!\n",
            "[nltk_data] Downloading package omw-1.4 to /root/nltk_data...\n",
            "[nltk_data]   Package omw-1.4 is already up-to-date!\n",
            "[nltk_data] Downloading package punkt to /root/nltk_data...\n",
            "[nltk_data]   Package punkt is already up-to-date!\n",
            "[nltk_data] Downloading package punkt_tab to /root/nltk_data...\n",
            "[nltk_data]   Unzipping tokenizers/punkt_tab.zip.\n"
          ]
        },
        {
          "output_type": "stream",
          "name": "stdout",
          "text": [
            "\n",
            "Sentence: He deposited the money in the bank\n",
            "Predicted Sense: Synset('savings_bank.n.02')\n",
            "Definition: a container (usually with a slot in the top) for keeping money at home\n",
            "\n",
            "Sentence: The river overflowed the bank\n",
            "Predicted Sense: Synset('savings_bank.n.02')\n",
            "Definition: a container (usually with a slot in the top) for keeping money at home\n"
          ]
        }
      ]
    },
    {
      "cell_type": "code",
      "source": [],
      "metadata": {
        "id": "Gwdq5shn3b9P"
      },
      "execution_count": null,
      "outputs": []
    }
  ]
}